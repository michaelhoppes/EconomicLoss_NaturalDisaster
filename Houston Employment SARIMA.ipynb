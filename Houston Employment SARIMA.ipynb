{
 "cells": [
  {
   "cell_type": "code",
   "execution_count": 1,
   "metadata": {},
   "outputs": [],
   "source": [
    "import pandas as pd\n",
    "import numpy as np\n",
    "import seaborn as sns\n",
    "import matplotlib.pyplot as plt\n",
    "\n",
    "sns.set(style=\"darkgrid\")\n",
    "\n",
    "from statsmodels.tsa.stattools import adfuller\n",
    "from statsmodels.tsa.statespace.sarimax import SARIMAX\n",
    "from sklearn.metrics import mean_squared_error, mean_absolute_error\n",
    "from statsmodels.graphics.tsaplots import plot_acf, plot_pacf\n",
    "from sklearn.linear_model import LogisticRegressionCV\n",
    "from statsmodels.tsa.arima_model import ARIMA\n",
    "from statsmodels.tsa.statespace.varmax import VARMAX"
   ]
  },
  {
   "cell_type": "code",
   "execution_count": 2,
   "metadata": {},
   "outputs": [],
   "source": [
    "houston_emp = pd.read_csv('../project-4/SeriesReport-20190117124932_d3c517.csv')"
   ]
  },
  {
   "cell_type": "code",
   "execution_count": 3,
   "metadata": {},
   "outputs": [
    {
     "data": {
      "text/html": [
       "<div>\n",
       "<style scoped>\n",
       "    .dataframe tbody tr th:only-of-type {\n",
       "        vertical-align: middle;\n",
       "    }\n",
       "\n",
       "    .dataframe tbody tr th {\n",
       "        vertical-align: top;\n",
       "    }\n",
       "\n",
       "    .dataframe thead th {\n",
       "        text-align: right;\n",
       "    }\n",
       "</style>\n",
       "<table border=\"1\" class=\"dataframe\">\n",
       "  <thead>\n",
       "    <tr style=\"text-align: right;\">\n",
       "      <th></th>\n",
       "      <th>Series ID</th>\n",
       "      <th>Year</th>\n",
       "      <th>Period</th>\n",
       "      <th>Value</th>\n",
       "    </tr>\n",
       "  </thead>\n",
       "  <tbody>\n",
       "    <tr>\n",
       "      <th>0</th>\n",
       "      <td>SMU48264200000000001</td>\n",
       "      <td>1990</td>\n",
       "      <td>M01</td>\n",
       "      <td>1708.4</td>\n",
       "    </tr>\n",
       "    <tr>\n",
       "      <th>1</th>\n",
       "      <td>SMU48264200000000001</td>\n",
       "      <td>1990</td>\n",
       "      <td>M02</td>\n",
       "      <td>1724.9</td>\n",
       "    </tr>\n",
       "    <tr>\n",
       "      <th>2</th>\n",
       "      <td>SMU48264200000000001</td>\n",
       "      <td>1990</td>\n",
       "      <td>M03</td>\n",
       "      <td>1739.3</td>\n",
       "    </tr>\n",
       "    <tr>\n",
       "      <th>3</th>\n",
       "      <td>SMU48264200000000001</td>\n",
       "      <td>1990</td>\n",
       "      <td>M04</td>\n",
       "      <td>1756.5</td>\n",
       "    </tr>\n",
       "    <tr>\n",
       "      <th>4</th>\n",
       "      <td>SMU48264200000000001</td>\n",
       "      <td>1990</td>\n",
       "      <td>M05</td>\n",
       "      <td>1781.4</td>\n",
       "    </tr>\n",
       "  </tbody>\n",
       "</table>\n",
       "</div>"
      ],
      "text/plain": [
       "              Series ID  Year Period   Value\n",
       "0  SMU48264200000000001  1990    M01  1708.4\n",
       "1  SMU48264200000000001  1990    M02  1724.9\n",
       "2  SMU48264200000000001  1990    M03  1739.3\n",
       "3  SMU48264200000000001  1990    M04  1756.5\n",
       "4  SMU48264200000000001  1990    M05  1781.4"
      ]
     },
     "execution_count": 3,
     "metadata": {},
     "output_type": "execute_result"
    }
   ],
   "source": [
    "houston_emp.head()"
   ]
  },
  {
   "cell_type": "code",
   "execution_count": 4,
   "metadata": {},
   "outputs": [],
   "source": [
    "new_index = pd.date_range(start = '1/1/1990', periods = len(houston_emp), freq = 'MS')\n",
    "\n",
    "houston_emp['time'] = new_index\n",
    "\n",
    "houston_emp.set_index('time', inplace = True)"
   ]
  },
  {
   "cell_type": "code",
   "execution_count": 5,
   "metadata": {},
   "outputs": [],
   "source": [
    "houston_emp['Value_Diff'] = houston_emp['Value'].diff()"
   ]
  },
  {
   "cell_type": "code",
   "execution_count": 6,
   "metadata": {},
   "outputs": [
    {
     "data": {
      "image/png": "[encoded data removed]",
      "text/plain": [
       "<Figure size 432x288 with 1 Axes>"
      ]
     },
     "metadata": {
      "needs_background": "light"
     },
     "output_type": "display_data"
    }
   ],
   "source": [
    "plot_acf(houston_emp['Value'], lags = (len(houston_emp) / 10));"
   ]
  },
  {
   "cell_type": "code",
   "execution_count": 7,
   "metadata": {},
   "outputs": [
    {
     "data": {
      "image/png": "[encoded data removed]",
      "text/plain": [
       "<Figure size 432x288 with 1 Axes>"
      ]
     },
     "metadata": {
      "needs_background": "light"
     },
     "output_type": "display_data"
    }
   ],
   "source": [
    "plot_pacf(houston_emp['Value'], lags = (len(houston_emp) / 10));"
   ]
  },
  {
   "cell_type": "code",
   "execution_count": 8,
   "metadata": {},
   "outputs": [],
   "source": [
    "# Define function to easily interpret results.\n",
    "def interpret_dftest(dftest):\n",
    "    dfoutput = pd.Series(dftest[0:2], index=['Test Statistic','p-value'])\n",
    "    return dfoutput"
   ]
  },
  {
   "cell_type": "code",
   "execution_count": 9,
   "metadata": {},
   "outputs": [
    {
     "data": {
      "text/plain": [
       "Test Statistic    0.262663\n",
       "p-value           0.975565\n",
       "dtype: float64"
      ]
     },
     "execution_count": 9,
     "metadata": {},
     "output_type": "execute_result"
    }
   ],
   "source": [
    "# Execute test on training data.\n",
    "interpret_dftest(adfuller(houston_emp['Value'].dropna()))"
   ]
  },
  {
   "cell_type": "code",
   "execution_count": 10,
   "metadata": {},
   "outputs": [],
   "source": [
    "stop_row = houston_emp.shape[0] - 23\n",
    "test_start = stop_row\n",
    "test_end = houston_emp.shape[0]"
   ]
  },
  {
   "cell_type": "code",
   "execution_count": 11,
   "metadata": {},
   "outputs": [],
   "source": [
    "train = houston_emp.iloc[:stop_row]\n",
    "test = houston_emp.iloc[stop_row:]"
   ]
  },
  {
   "cell_type": "code",
   "execution_count": 12,
   "metadata": {},
   "outputs": [
    {
     "name": "stderr",
     "output_type": "stream",
     "text": [
      "/Users/ashleywhite/anaconda3/lib/python3.6/site-packages/statsmodels/tsa/base/tsa_model.py:171: ValueWarning: No frequency information was provided, so inferred frequency MS will be used.\n",
      "  % freq, ValueWarning)\n",
      "/Users/ashleywhite/anaconda3/lib/python3.6/site-packages/statsmodels/base/model.py:508: ConvergenceWarning: Maximum Likelihood optimization failed to converge. Check mle_retvals\n",
      "  \"Check mle_retvals\", ConvergenceWarning)\n"
     ]
    },
    {
     "name": "stdout",
     "output_type": "stream",
     "text": [
      "22.343894214962603\n"
     ]
    }
   ],
   "source": [
    "sarima = SARIMAX(endog = train['Value'],\n",
    "                 order = (1, 0, 1),              # (p, d, q)\n",
    "                 seasonal_order = (1, 0, 1, 30),\n",
    "                 enforce_stationarity = False,\n",
    "                 enforce_invertibility = False)  # (P, D, Q, S)\n",
    "\n",
    "# Fit SARIMA model.\n",
    "model = sarima.fit()\n",
    "\n",
    "# Generate predictions based on test set.\n",
    "preds = model.predict(start = test_start, end = test_end - 1)\n",
    "\n",
    "# Evaluate predictions.\n",
    "print(mean_absolute_error(test['Value'], preds))"
   ]
  },
  {
   "cell_type": "code",
   "execution_count": 13,
   "metadata": {},
   "outputs": [
    {
     "data": {
      "text/plain": [
       "<matplotlib.axes._subplots.AxesSubplot at 0x1c1fc05748>"
      ]
     },
     "execution_count": 13,
     "metadata": {},
     "output_type": "execute_result"
    },
    {
     "data": {
      "image/png": "[encoded data removed]",
      "text/plain": [
       "<Figure size 720x432 with 1 Axes>"
      ]
     },
     "metadata": {
      "needs_background": "light"
     },
     "output_type": "display_data"
    }
   ],
   "source": [
    "# Plot data.\n",
    "plt.figure(figsize=(10,6))\n",
    "plt.title(label = 'Monthly Employment w/ SARIMAX(1, 0, 1) x (1, 0, 1, 30)', fontsize=16);\n",
    "sns.lineplot(data=train['Value'], color=\"coral\", label=\"Monthly Employment\")\n",
    "sns.lineplot(data=test['Value'], color=\"seagreen\", label=\"Monthly Employment\")\n",
    "sns.lineplot(x = test.index, y = preds.values, color = 'darkred', label = 'SARIMA Employment')"
   ]
  },
  {
   "cell_type": "code",
   "execution_count": 14,
   "metadata": {},
   "outputs": [
    {
     "data": {
      "text/plain": [
       "<matplotlib.axes._subplots.AxesSubplot at 0x1c1dac0048>"
      ]
     },
     "execution_count": 14,
     "metadata": {},
     "output_type": "execute_result"
    },
    {
     "data": {
      "image/png": "[encoded data removed]",
      "text/plain": [
       "<Figure size 720x432 with 1 Axes>"
      ]
     },
     "metadata": {
      "needs_background": "light"
     },
     "output_type": "display_data"
    }
   ],
   "source": [
    "# Plot data.\n",
    "plt.figure(figsize=(10,6))\n",
    "plt.title(label = 'Monthly Employment w/ SARIMAX(1, 0, 1) x (1, 0, 1, 30)', fontsize=16);\n",
    "#sns.lineplot(data=train['Value'], color=\"coral\", label=\"Monthly Unemployment\")\n",
    "sns.lineplot(data=test['Value'], color=\"seagreen\", label=\"Monthly Employment\")\n",
    "sns.lineplot(x = test.index, y = preds.values, color = 'darkred', label = 'SARIMAX Employment')"
   ]
  },
  {
   "cell_type": "code",
   "execution_count": 15,
   "metadata": {},
   "outputs": [],
   "source": [
    "preds = pd.DataFrame(preds, columns= ['Predicted Value'])"
   ]
  },
  {
   "cell_type": "code",
   "execution_count": 16,
   "metadata": {},
   "outputs": [],
   "source": [
    "houston_emp_preds = houston_emp.join(preds, on = houston_emp.index)"
   ]
  },
  {
   "cell_type": "code",
   "execution_count": 17,
   "metadata": {},
   "outputs": [],
   "source": [
    "houston_emp_preds['dif'] = houston_emp_preds['Value'] - houston_emp_preds['Predicted Value']"
   ]
  },
  {
   "cell_type": "code",
   "execution_count": 18,
   "metadata": {},
   "outputs": [
    {
     "data": {
      "text/html": [
       "<div>\n",
       "<style scoped>\n",
       "    .dataframe tbody tr th:only-of-type {\n",
       "        vertical-align: middle;\n",
       "    }\n",
       "\n",
       "    .dataframe tbody tr th {\n",
       "        vertical-align: top;\n",
       "    }\n",
       "\n",
       "    .dataframe thead th {\n",
       "        text-align: right;\n",
       "    }\n",
       "</style>\n",
       "<table border=\"1\" class=\"dataframe\">\n",
       "  <thead>\n",
       "    <tr style=\"text-align: right;\">\n",
       "      <th></th>\n",
       "      <th>Series ID</th>\n",
       "      <th>Year</th>\n",
       "      <th>Period</th>\n",
       "      <th>Value</th>\n",
       "      <th>Value_Diff</th>\n",
       "      <th>Predicted Value</th>\n",
       "      <th>dif</th>\n",
       "    </tr>\n",
       "    <tr>\n",
       "      <th>time</th>\n",
       "      <th></th>\n",
       "      <th></th>\n",
       "      <th></th>\n",
       "      <th></th>\n",
       "      <th></th>\n",
       "      <th></th>\n",
       "      <th></th>\n",
       "    </tr>\n",
       "  </thead>\n",
       "  <tbody>\n",
       "    <tr>\n",
       "      <th>2016-11-01</th>\n",
       "      <td>SMU48264200000000001</td>\n",
       "      <td>2016</td>\n",
       "      <td>M11</td>\n",
       "      <td>3007.3</td>\n",
       "      <td>8.3</td>\n",
       "      <td>NaN</td>\n",
       "      <td>NaN</td>\n",
       "    </tr>\n",
       "    <tr>\n",
       "      <th>2016-12-01</th>\n",
       "      <td>SMU48264200000000001</td>\n",
       "      <td>2016</td>\n",
       "      <td>M12</td>\n",
       "      <td>3010.5</td>\n",
       "      <td>3.2</td>\n",
       "      <td>NaN</td>\n",
       "      <td>NaN</td>\n",
       "    </tr>\n",
       "    <tr>\n",
       "      <th>2017-01-01</th>\n",
       "      <td>SMU48264200000000001</td>\n",
       "      <td>2017</td>\n",
       "      <td>M01</td>\n",
       "      <td>2965.1</td>\n",
       "      <td>-45.4</td>\n",
       "      <td>2983.608085</td>\n",
       "      <td>-18.508085</td>\n",
       "    </tr>\n",
       "    <tr>\n",
       "      <th>2017-02-01</th>\n",
       "      <td>SMU48264200000000001</td>\n",
       "      <td>2017</td>\n",
       "      <td>M02</td>\n",
       "      <td>2991.4</td>\n",
       "      <td>26.3</td>\n",
       "      <td>2995.078388</td>\n",
       "      <td>-3.678388</td>\n",
       "    </tr>\n",
       "    <tr>\n",
       "      <th>2017-03-01</th>\n",
       "      <td>SMU48264200000000001</td>\n",
       "      <td>2017</td>\n",
       "      <td>M03</td>\n",
       "      <td>3009.5</td>\n",
       "      <td>18.1</td>\n",
       "      <td>3005.146415</td>\n",
       "      <td>4.353585</td>\n",
       "    </tr>\n",
       "    <tr>\n",
       "      <th>2017-04-01</th>\n",
       "      <td>SMU48264200000000001</td>\n",
       "      <td>2017</td>\n",
       "      <td>M04</td>\n",
       "      <td>3013.0</td>\n",
       "      <td>3.5</td>\n",
       "      <td>3013.963148</td>\n",
       "      <td>-0.963148</td>\n",
       "    </tr>\n",
       "    <tr>\n",
       "      <th>2017-05-01</th>\n",
       "      <td>SMU48264200000000001</td>\n",
       "      <td>2017</td>\n",
       "      <td>M05</td>\n",
       "      <td>3029.0</td>\n",
       "      <td>16.0</td>\n",
       "      <td>3026.734171</td>\n",
       "      <td>2.265829</td>\n",
       "    </tr>\n",
       "    <tr>\n",
       "      <th>2017-06-01</th>\n",
       "      <td>SMU48264200000000001</td>\n",
       "      <td>2017</td>\n",
       "      <td>M06</td>\n",
       "      <td>3038.8</td>\n",
       "      <td>9.8</td>\n",
       "      <td>3038.490508</td>\n",
       "      <td>0.309492</td>\n",
       "    </tr>\n",
       "    <tr>\n",
       "      <th>2017-07-01</th>\n",
       "      <td>SMU48264200000000001</td>\n",
       "      <td>2017</td>\n",
       "      <td>M07</td>\n",
       "      <td>3011.3</td>\n",
       "      <td>-27.5</td>\n",
       "      <td>3010.830155</td>\n",
       "      <td>0.469845</td>\n",
       "    </tr>\n",
       "    <tr>\n",
       "      <th>2017-08-01</th>\n",
       "      <td>SMU48264200000000001</td>\n",
       "      <td>2017</td>\n",
       "      <td>M08</td>\n",
       "      <td>3012.9</td>\n",
       "      <td>1.6</td>\n",
       "      <td>3023.391240</td>\n",
       "      <td>-10.491240</td>\n",
       "    </tr>\n",
       "    <tr>\n",
       "      <th>2017-09-01</th>\n",
       "      <td>SMU48264200000000001</td>\n",
       "      <td>2017</td>\n",
       "      <td>M09</td>\n",
       "      <td>3007.2</td>\n",
       "      <td>-5.7</td>\n",
       "      <td>3033.230992</td>\n",
       "      <td>-26.030992</td>\n",
       "    </tr>\n",
       "    <tr>\n",
       "      <th>2017-10-01</th>\n",
       "      <td>SMU48264200000000001</td>\n",
       "      <td>2017</td>\n",
       "      <td>M10</td>\n",
       "      <td>3041.0</td>\n",
       "      <td>33.8</td>\n",
       "      <td>3042.542159</td>\n",
       "      <td>-1.542159</td>\n",
       "    </tr>\n",
       "    <tr>\n",
       "      <th>2017-11-01</th>\n",
       "      <td>SMU48264200000000001</td>\n",
       "      <td>2017</td>\n",
       "      <td>M11</td>\n",
       "      <td>3063.4</td>\n",
       "      <td>22.4</td>\n",
       "      <td>3055.787099</td>\n",
       "      <td>7.612901</td>\n",
       "    </tr>\n",
       "    <tr>\n",
       "      <th>2017-12-01</th>\n",
       "      <td>SMU48264200000000001</td>\n",
       "      <td>2017</td>\n",
       "      <td>M12</td>\n",
       "      <td>3073.4</td>\n",
       "      <td>10.0</td>\n",
       "      <td>3066.792508</td>\n",
       "      <td>6.607492</td>\n",
       "    </tr>\n",
       "    <tr>\n",
       "      <th>2018-01-01</th>\n",
       "      <td>SMU48264200000000001</td>\n",
       "      <td>2018</td>\n",
       "      <td>M01</td>\n",
       "      <td>3032.1</td>\n",
       "      <td>-41.3</td>\n",
       "      <td>3041.568531</td>\n",
       "      <td>-9.468531</td>\n",
       "    </tr>\n",
       "    <tr>\n",
       "      <th>2018-02-01</th>\n",
       "      <td>SMU48264200000000001</td>\n",
       "      <td>2018</td>\n",
       "      <td>M02</td>\n",
       "      <td>3061.5</td>\n",
       "      <td>29.4</td>\n",
       "      <td>3053.447152</td>\n",
       "      <td>8.052848</td>\n",
       "    </tr>\n",
       "    <tr>\n",
       "      <th>2018-03-01</th>\n",
       "      <td>SMU48264200000000001</td>\n",
       "      <td>2018</td>\n",
       "      <td>M03</td>\n",
       "      <td>3074.9</td>\n",
       "      <td>13.4</td>\n",
       "      <td>3062.262749</td>\n",
       "      <td>12.637251</td>\n",
       "    </tr>\n",
       "    <tr>\n",
       "      <th>2018-04-01</th>\n",
       "      <td>SMU48264200000000001</td>\n",
       "      <td>2018</td>\n",
       "      <td>M04</td>\n",
       "      <td>3098.8</td>\n",
       "      <td>23.9</td>\n",
       "      <td>3069.682656</td>\n",
       "      <td>29.117344</td>\n",
       "    </tr>\n",
       "    <tr>\n",
       "      <th>2018-05-01</th>\n",
       "      <td>SMU48264200000000001</td>\n",
       "      <td>2018</td>\n",
       "      <td>M05</td>\n",
       "      <td>3110.2</td>\n",
       "      <td>11.4</td>\n",
       "      <td>3079.533061</td>\n",
       "      <td>30.666939</td>\n",
       "    </tr>\n",
       "    <tr>\n",
       "      <th>2018-06-01</th>\n",
       "      <td>SMU48264200000000001</td>\n",
       "      <td>2018</td>\n",
       "      <td>M06</td>\n",
       "      <td>3131.6</td>\n",
       "      <td>21.4</td>\n",
       "      <td>3091.498201</td>\n",
       "      <td>40.101799</td>\n",
       "    </tr>\n",
       "    <tr>\n",
       "      <th>2018-07-01</th>\n",
       "      <td>SMU48264200000000001</td>\n",
       "      <td>2018</td>\n",
       "      <td>M07</td>\n",
       "      <td>3115.7</td>\n",
       "      <td>-15.9</td>\n",
       "      <td>3062.539333</td>\n",
       "      <td>53.160667</td>\n",
       "    </tr>\n",
       "    <tr>\n",
       "      <th>2018-08-01</th>\n",
       "      <td>SMU48264200000000001</td>\n",
       "      <td>2018</td>\n",
       "      <td>M08</td>\n",
       "      <td>3122.1</td>\n",
       "      <td>6.4</td>\n",
       "      <td>3075.117602</td>\n",
       "      <td>46.982398</td>\n",
       "    </tr>\n",
       "    <tr>\n",
       "      <th>2018-09-01</th>\n",
       "      <td>SMU48264200000000001</td>\n",
       "      <td>2018</td>\n",
       "      <td>M09</td>\n",
       "      <td>3135.2</td>\n",
       "      <td>13.1</td>\n",
       "      <td>3082.582311</td>\n",
       "      <td>52.617689</td>\n",
       "    </tr>\n",
       "    <tr>\n",
       "      <th>2018-10-01</th>\n",
       "      <td>SMU48264200000000001</td>\n",
       "      <td>2018</td>\n",
       "      <td>M10</td>\n",
       "      <td>3161.2</td>\n",
       "      <td>26.0</td>\n",
       "      <td>3090.476383</td>\n",
       "      <td>70.723617</td>\n",
       "    </tr>\n",
       "    <tr>\n",
       "      <th>2018-11-01</th>\n",
       "      <td>SMU48264200000000001</td>\n",
       "      <td>2018</td>\n",
       "      <td>M11</td>\n",
       "      <td>3177.8</td>\n",
       "      <td>16.6</td>\n",
       "      <td>3100.252675</td>\n",
       "      <td>77.547325</td>\n",
       "    </tr>\n",
       "  </tbody>\n",
       "</table>\n",
       "</div>"
      ],
      "text/plain": [
       "                       Series ID  Year Period   Value  Value_Diff  \\\n",
       "time                                                                \n",
       "2016-11-01  SMU48264200000000001  2016    M11  3007.3         8.3   \n",
       "2016-12-01  SMU48264200000000001  2016    M12  3010.5         3.2   \n",
       "2017-01-01  SMU48264200000000001  2017    M01  2965.1       -45.4   \n",
       "2017-02-01  SMU48264200000000001  2017    M02  2991.4        26.3   \n",
       "2017-03-01  SMU48264200000000001  2017    M03  3009.5        18.1   \n",
       "2017-04-01  SMU48264200000000001  2017    M04  3013.0         3.5   \n",
       "2017-05-01  SMU48264200000000001  2017    M05  3029.0        16.0   \n",
       "2017-06-01  SMU48264200000000001  2017    M06  3038.8         9.8   \n",
       "2017-07-01  SMU48264200000000001  2017    M07  3011.3       -27.5   \n",
       "2017-08-01  SMU48264200000000001  2017    M08  3012.9         1.6   \n",
       "2017-09-01  SMU48264200000000001  2017    M09  3007.2        -5.7   \n",
       "2017-10-01  SMU48264200000000001  2017    M10  3041.0        33.8   \n",
       "2017-11-01  SMU48264200000000001  2017    M11  3063.4        22.4   \n",
       "2017-12-01  SMU48264200000000001  2017    M12  3073.4        10.0   \n",
       "2018-01-01  SMU48264200000000001  2018    M01  3032.1       -41.3   \n",
       "2018-02-01  SMU48264200000000001  2018    M02  3061.5        29.4   \n",
       "2018-03-01  SMU48264200000000001  2018    M03  3074.9        13.4   \n",
       "2018-04-01  SMU48264200000000001  2018    M04  3098.8        23.9   \n",
       "2018-05-01  SMU48264200000000001  2018    M05  3110.2        11.4   \n",
       "2018-06-01  SMU48264200000000001  2018    M06  3131.6        21.4   \n",
       "2018-07-01  SMU48264200000000001  2018    M07  3115.7       -15.9   \n",
       "2018-08-01  SMU48264200000000001  2018    M08  3122.1         6.4   \n",
       "2018-09-01  SMU48264200000000001  2018    M09  3135.2        13.1   \n",
       "2018-10-01  SMU48264200000000001  2018    M10  3161.2        26.0   \n",
       "2018-11-01  SMU48264200000000001  2018    M11  3177.8        16.6   \n",
       "\n",
       "            Predicted Value        dif  \n",
       "time                                    \n",
       "2016-11-01              NaN        NaN  \n",
       "2016-12-01              NaN        NaN  \n",
       "2017-01-01      2983.608085 -18.508085  \n",
       "2017-02-01      2995.078388  -3.678388  \n",
       "2017-03-01      3005.146415   4.353585  \n",
       "2017-04-01      3013.963148  -0.963148  \n",
       "2017-05-01      3026.734171   2.265829  \n",
       "2017-06-01      3038.490508   0.309492  \n",
       "2017-07-01      3010.830155   0.469845  \n",
       "2017-08-01      3023.391240 -10.491240  \n",
       "2017-09-01      3033.230992 -26.030992  \n",
       "2017-10-01      3042.542159  -1.542159  \n",
       "2017-11-01      3055.787099   7.612901  \n",
       "2017-12-01      3066.792508   6.607492  \n",
       "2018-01-01      3041.568531  -9.468531  \n",
       "2018-02-01      3053.447152   8.052848  \n",
       "2018-03-01      3062.262749  12.637251  \n",
       "2018-04-01      3069.682656  29.117344  \n",
       "2018-05-01      3079.533061  30.666939  \n",
       "2018-06-01      3091.498201  40.101799  \n",
       "2018-07-01      3062.539333  53.160667  \n",
       "2018-08-01      3075.117602  46.982398  \n",
       "2018-09-01      3082.582311  52.617689  \n",
       "2018-10-01      3090.476383  70.723617  \n",
       "2018-11-01      3100.252675  77.547325  "
      ]
     },
     "execution_count": 18,
     "metadata": {},
     "output_type": "execute_result"
    }
   ],
   "source": [
    "houston_emp_preds.tail(25)"
   ]
  },
  {
   "cell_type": "code",
   "execution_count": 19,
   "metadata": {},
   "outputs": [],
   "source": [
    "houston_emp_preds.to_csv('../project-4/houston_employment_preds.csv')"
   ]
  }
 ],
 "metadata": {
  "kernelspec": {
   "display_name": "Python 3",
   "language": "python",
   "name": "python3"
  },
  "language_info": {
   "codemirror_mode": {
    "name": "ipython",
    "version": 3
   },
   "file_extension": ".py",
   "mimetype": "text/x-python",
   "name": "python",
   "nbconvert_exporter": "python",
   "pygments_lexer": "ipython3",
   "version": "3.6.6"
  }
 },
 "nbformat": 4,
 "nbformat_minor": 2
}
